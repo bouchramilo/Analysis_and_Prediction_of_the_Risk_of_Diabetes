{
 "cells": [
  {
   "cell_type": "markdown",
   "id": "8115165b",
   "metadata": {},
   "source": [
    "# Analyse et Prédiction du Risque de Diabète"
   ]
  },
  {
   "cell_type": "markdown",
   "id": "0c745319",
   "metadata": {},
   "source": [
    "Ce projet vise à segmenter les données de patients à risque de diabète en utilisant des modèles de clustering (comme K-Means). Une classification supervisée est ensuite appliquée pour prédire le risque de diabète avec précision, en évaluant plusieurs algorithmes (Random Forest, SVM, etc.) et en optimisant leurs performances."
   ]
  },
  {
   "cell_type": "markdown",
   "id": "e19cd478",
   "metadata": {},
   "source": [
    "* Les Installations : "
   ]
  },
  {
   "cell_type": "code",
   "execution_count": null,
   "id": "a87943dc",
   "metadata": {},
   "outputs": [],
   "source": []
  },
  {
   "cell_type": "markdown",
   "id": "ea38ba0d",
   "metadata": {},
   "source": [
    "* Les Imports : "
   ]
  },
  {
   "cell_type": "code",
   "execution_count": 2,
   "id": "dbb5fb4b",
   "metadata": {},
   "outputs": [],
   "source": [
    "import numpy as np\n",
    "import pandas as pd\n",
    "import matplotlib.pyplot as plt\n",
    "import seaborn as sbn\n"
   ]
  },
  {
   "cell_type": "markdown",
   "id": "30e94aa6",
   "metadata": {},
   "source": [
    "## 🎯 Analyse exploratoire des données (EDA)"
   ]
  },
  {
   "cell_type": "markdown",
   "id": "f852eb3d",
   "metadata": {},
   "source": [
    "### 1️⃣ Importer les données"
   ]
  },
  {
   "cell_type": "code",
   "execution_count": 5,
   "id": "df4a46c7",
   "metadata": {},
   "outputs": [
    {
     "name": "stdout",
     "output_type": "stream",
     "text": [
      "dataset : \n",
      "     Unnamed: 0  Pregnancies  Glucose  BloodPressure  SkinThickness  Insulin  \\\n",
      "0             0            6      148             72             35        0   \n",
      "1             1            1       85             66             29        0   \n",
      "2             2            8      183             64              0        0   \n",
      "3             3            1       89             66             23       94   \n",
      "4             4            0      137             40             35      168   \n",
      "..          ...          ...      ...            ...            ...      ...   \n",
      "763         763           10      101             76             48      180   \n",
      "764         764            2      122             70             27        0   \n",
      "765         765            5      121             72             23      112   \n",
      "766         766            1      126             60              0        0   \n",
      "767         767            1       93             70             31        0   \n",
      "\n",
      "      BMI  DiabetesPedigreeFunction  Age  \n",
      "0    33.6                     0.627   50  \n",
      "1    26.6                     0.351   31  \n",
      "2    23.3                     0.672   32  \n",
      "3    28.1                     0.167   21  \n",
      "4    43.1                     2.288   33  \n",
      "..    ...                       ...  ...  \n",
      "763  32.9                     0.171   63  \n",
      "764  36.8                     0.340   27  \n",
      "765  26.2                     0.245   30  \n",
      "766  30.1                     0.349   47  \n",
      "767  30.4                     0.315   23  \n",
      "\n",
      "[768 rows x 9 columns]\n"
     ]
    }
   ],
   "source": [
    "dataset = pd.read_csv(\"dataset-diabete.csv\")\n",
    "print(f\"dataset : \\n{dataset}\")"
   ]
  },
  {
   "cell_type": "markdown",
   "id": "18d2c722",
   "metadata": {},
   "source": [
    "* Les dimensions : "
   ]
  },
  {
   "cell_type": "code",
   "execution_count": 6,
   "id": "7505861a",
   "metadata": {},
   "outputs": [
    {
     "name": "stdout",
     "output_type": "stream",
     "text": [
      "Les dimension de dataset : \n",
      "(768, 9)\n"
     ]
    }
   ],
   "source": [
    "print(f\"Les dimension de dataset : \\n{dataset.shape}\")"
   ]
  },
  {
   "cell_type": "markdown",
   "id": "f87bbd89",
   "metadata": {},
   "source": [
    "* Les types de variables:"
   ]
  },
  {
   "cell_type": "code",
   "execution_count": 10,
   "id": "79ddc030",
   "metadata": {},
   "outputs": [
    {
     "name": "stdout",
     "output_type": "stream",
     "text": [
      "Les types de variables : \n",
      " {'Unnamed: 0': dtype('int64'), 'Pregnancies': dtype('int64'), 'Glucose': dtype('int64'), 'BloodPressure': dtype('int64'), 'SkinThickness': dtype('int64'), 'Insulin': dtype('int64'), 'BMI': dtype('float64'), 'DiabetesPedigreeFunction': dtype('float64'), 'Age': dtype('int64')}\n"
     ]
    }
   ],
   "source": [
    "print(f\"Les types de variables : \\n {dict(dataset.dtypes)}\")"
   ]
  },
  {
   "cell_type": "markdown",
   "id": "38b631cd",
   "metadata": {},
   "source": []
  }
 ],
 "metadata": {
  "kernelspec": {
   "display_name": "Python 3",
   "language": "python",
   "name": "python3"
  },
  "language_info": {
   "codemirror_mode": {
    "name": "ipython",
    "version": 3
   },
   "file_extension": ".py",
   "mimetype": "text/x-python",
   "name": "python",
   "nbconvert_exporter": "python",
   "pygments_lexer": "ipython3",
   "version": "3.13.7"
  }
 },
 "nbformat": 4,
 "nbformat_minor": 5
}
